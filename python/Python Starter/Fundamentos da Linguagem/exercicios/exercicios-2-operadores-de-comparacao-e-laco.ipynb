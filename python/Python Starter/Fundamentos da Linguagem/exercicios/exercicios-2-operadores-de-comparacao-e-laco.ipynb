{
 "cells": [
  {
   "cell_type": "markdown",
   "metadata": {},
   "source": [
    "<img src=\"https://asimov.academy/wp-content/uploads/2021/01/logo.png\" width=\"200\"/>\n",
    "_____________________________________________\n",
    "\n",
    "## Exercícios #2 - Operadores de comparação e laços\n"
   ]
  },
  {
   "cell_type": "markdown",
   "metadata": {},
   "source": [
    "### Exercício 1\n",
    "Faça um programa para a leitura de duas notas parciais de um aluno. O programa deve calcular a média alcançada por aluno e apresentar:\n",
    "- A mensagem \"Aprovado\", se a média alcançada for maior ou igual a 7;\n",
    "- A mensagem \"Reprovado\", se a média for menor do que 7;\n",
    "- A mensagem \"Aprovado com Distinção\", se a média for igual a 10."
   ]
  },
  {
   "cell_type": "code",
   "execution_count": 55,
   "metadata": {},
   "outputs": [
    {
     "name": "stdout",
     "output_type": "stream",
     "text": [
      "Informe a primeira nota: \n"
     ]
    },
    {
     "name": "stdin",
     "output_type": "stream",
     "text": [
      " 6\n"
     ]
    },
    {
     "name": "stdout",
     "output_type": "stream",
     "text": [
      "Informe a segunda nota: \n"
     ]
    },
    {
     "name": "stdin",
     "output_type": "stream",
     "text": [
      " 4\n"
     ]
    },
    {
     "name": "stdout",
     "output_type": "stream",
     "text": [
      "========================\n",
      "A média é 5.0\n",
      "Reprovado\n"
     ]
    }
   ],
   "source": [
    "print(\"Informe a primeira nota: \")\n",
    "n1 = float(input())\n",
    "print(\"Informe a segunda nota: \")\n",
    "n2 = float(input())\n",
    "print(\"========================\")\n",
    "media = (n1+n2)/2\n",
    "print(\"A média é {}\".format(media))\n",
    "if media == 10:\n",
    "    print(\"Aprovado com Distinção\")\n",
    "\n",
    "elif media >= 7:\n",
    "    print(\"Aprovado\")\n",
    "\n",
    "else:\n",
    "    print(\"Reprovado\")"
   ]
  },
  {
   "cell_type": "markdown",
   "metadata": {},
   "source": [
    "### Exercício 2\n",
    "Escreva um script que leia três números e mostre o maior e o menor deles."
   ]
  },
  {
   "cell_type": "code",
   "execution_count": 16,
   "metadata": {},
   "outputs": [
    {
     "name": "stdout",
     "output_type": "stream",
     "text": [
      "O maior número da lista é 1 e o menor é 3513!\n"
     ]
    }
   ],
   "source": [
    "numeros = [2,5,4,961,32,156,32,1,3513,1,51,31,35]\n",
    "lista = []\n",
    "for i in numeros:\n",
    "    lista.append(i)\n",
    "lista.sort()\n",
    "print(\"O maior número da lista é {} e o menor é {}!\".format(lista[0], lista[-1]))"
   ]
  },
  {
   "cell_type": "markdown",
   "metadata": {},
   "source": [
    "### Exercício 3 \n",
    "Nome na vertical em escada. \n",
    "\n",
    "F<br>\n",
    "FU<br>\n",
    "FUL<br>\n",
    "FULA<br>\n",
    "FULAN<br>\n",
    "FULANO<br>"
   ]
  },
  {
   "cell_type": "code",
   "execution_count": 77,
   "metadata": {},
   "outputs": [
    {
     "name": "stdin",
     "output_type": "stream",
     "text": [
      " REINALDO\n"
     ]
    },
    {
     "name": "stdout",
     "output_type": "stream",
     "text": [
      "R\n",
      "RE\n",
      "REI\n",
      "REIN\n",
      "REINA\n",
      "REINAL\n",
      "REINALD\n",
      "REINALDO\n"
     ]
    }
   ],
   "source": [
    "palavra = input()\n",
    "escrita = \"\"\n",
    "for i in palavra:\n",
    "    escrita = escrita+i\n",
    "    print(escrita)"
   ]
  },
  {
   "cell_type": "markdown",
   "metadata": {},
   "source": [
    "### Exercício 4\n",
    "A série de Fibonacci é formada pela seqüência 1,1,2,3,5,8,13,21,34,55,... (o próximo termo, a partir do terceiro, é sempre gerado a partir do somatório dos últimos dois). Faça um programa capaz de gerar a série até o n−ésimo termo (onde o valor n deve ser inserido pelo usuário)."
   ]
  },
  {
   "cell_type": "code",
   "execution_count": null,
   "metadata": {},
   "outputs": [],
   "source": [
    "qtd = int(input())\n",
    "lista = [1,1]\n",
    "for i in range(1, (qtd-2)):\n",
    "    x = lista[i]\n",
    "    y = lista[i-1]\n",
    "    soma = x + y\n",
    "    lista.append(soma)\n",
    "\n",
    "print(lista)\n",
    "    "
   ]
  },
  {
   "cell_type": "markdown",
   "metadata": {},
   "source": [
    "### Exercício 5\n",
    "Faça um programa que leia e valide as seguintes informações:\n",
    "- Nome: maior que 3 caracteres;\n",
    "- Idade: entre 0 e 150;\n",
    "- Salário: maior que zero;\n",
    "- Sexo: 'f' ou 'm';\n",
    "- Estado Civil: 's', 'c', 'v', 'd';"
   ]
  },
  {
   "cell_type": "code",
   "execution_count": 80,
   "metadata": {},
   "outputs": [
    {
     "name": "stdout",
     "output_type": "stream",
     "text": [
      "Insira seu nome: \n"
     ]
    },
    {
     "name": "stdin",
     "output_type": "stream",
     "text": [
      " Reinaldo\n"
     ]
    },
    {
     "name": "stdout",
     "output_type": "stream",
     "text": [
      "=============================\n",
      "Insira sua idade: \n"
     ]
    },
    {
     "name": "stdin",
     "output_type": "stream",
     "text": [
      " 27\n"
     ]
    },
    {
     "name": "stdout",
     "output_type": "stream",
     "text": [
      "27\n",
      "=============================\n",
      "Insira seu salário: \n"
     ]
    },
    {
     "name": "stdin",
     "output_type": "stream",
     "text": [
      " 50000\n"
     ]
    },
    {
     "name": "stdout",
     "output_type": "stream",
     "text": [
      "=============================\n",
      "Indique seu sexo:\n"
     ]
    },
    {
     "name": "stdin",
     "output_type": "stream",
     "text": [
      " m\n"
     ]
    },
    {
     "name": "stdout",
     "output_type": "stream",
     "text": [
      "=============================\n",
      "Qual seu estado civil?\n"
     ]
    },
    {
     "name": "stdin",
     "output_type": "stream",
     "text": [
      " q\n"
     ]
    },
    {
     "name": "stdout",
     "output_type": "stream",
     "text": [
      "Escolha o estado civil entre 's', 'c', 'v' ou 'd' \n"
     ]
    },
    {
     "name": "stdin",
     "output_type": "stream",
     "text": [
      " s\n"
     ]
    },
    {
     "name": "stdout",
     "output_type": "stream",
     "text": [
      "=============================\n",
      "=============================\n"
     ]
    }
   ],
   "source": [
    "print(\"Insira seu nome: \")\n",
    "nome = input()\n",
    "while len(nome) < 3:\n",
    "    print(\"Nome menor que 3 dígitos, por favor insira um nome maior\")\n",
    "    nome = input()\n",
    "print(\"=============================\")\n",
    "print(\"Insira sua idade: \")\n",
    "idade = int(input())\n",
    "print(idade)\n",
    "while idade < 0 or idade >150:\n",
    "    print(\"A idade tem que estar entre 0 e 150\")\n",
    "    idade = int(input())\n",
    "    print(\"=============================\")\n",
    "print(\"=============================\")\n",
    "print(\"Insira seu salário: \")\n",
    "salario = int(input())\n",
    "while salario <= 0:\n",
    "    print(\"Seu salário tem que ser maior que 0\")\n",
    "    salario = int(input())\n",
    "print(\"=============================\")\n",
    "print(\"Indique seu sexo:\")\n",
    "sexo = input()\n",
    "while sexo not in [\"m\",\"f\"]:\n",
    "    print(\"Escolha 'm' ou 'f' \")\n",
    "    sexo = input()\n",
    "    print(\"=============================\")\n",
    "print(\"=============================\")\n",
    "print(\"Qual seu estado civil?\")\n",
    "estado = input()\n",
    "while estado not in [\"s\",\"c\",\"v\",\"d\"]:\n",
    "    print(\"Escolha o estado civil entre 's', 'c', 'v' ou 'd' \")\n",
    "    estado = input()\n",
    "    print(\"=============================\")\n",
    "print(\"=============================\")"
   ]
  },
  {
   "cell_type": "markdown",
   "metadata": {},
   "source": [
    "### Exercício 6\n",
    "Faça um programa que peça um número inteiro e determine se ele é ou não um número primo. Um número primo é aquele que é divisível somente por ele mesmo e por 1. \n",
    "Dica: Utilize o operador aritmético `%`, que retorna o resto da divisão de dois números."
   ]
  },
  {
   "cell_type": "code",
   "execution_count": null,
   "metadata": {},
   "outputs": [],
   "source": []
  }
 ],
 "metadata": {
  "kernelspec": {
   "display_name": "Python 3 (ipykernel)",
   "language": "python",
   "name": "python3"
  },
  "language_info": {
   "codemirror_mode": {
    "name": "ipython",
    "version": 3
   },
   "file_extension": ".py",
   "mimetype": "text/x-python",
   "name": "python",
   "nbconvert_exporter": "python",
   "pygments_lexer": "ipython3",
   "version": "3.11.5"
  }
 },
 "nbformat": 4,
 "nbformat_minor": 4
}
